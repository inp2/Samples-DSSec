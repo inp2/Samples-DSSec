{
 "cells": [
  {
   "cell_type": "markdown",
   "metadata": {},
   "source": [
    "# Data"
   ]
  },
  {
   "cell_type": "markdown",
   "metadata": {},
   "source": [
    "People turn to data in order to tell a story, or solve a problem. Typically, we start with a question, and then look to data for answers. Whenever you look at data, it is important to be open to unexpected patterns, explanations, and unusual results. Sometimes the most interesting stories to be told with data are not ones we are set out to tell."
   ]
  },
  {
   "cell_type": "markdown",
   "metadata": {},
   "source": [
    "## What is data?\n",
    "\n",
    "Data is used to described things by assigning a value ot them. The values are then organized processed, and presented within a given context so that it becomes useful. Data can be in two different forms: qualitiative and quantitative."
   ]
  },
  {
   "cell_type": "markdown",
   "metadata": {},
   "source": [
    "### Dataset Description\n",
    "\n",
    "This list of websites are from three black list: + machinelearning.inginf.units.it/data-andtools/hidden-fraudulent-urls-dataset + malwaredomainlist.com + zeuztacker.abuse.ch. From them we got around 185181 URLs, we supposed that they were malicious according to their information. We got the benign URLs (345000) from https://github.com/faizann24/Using-machinelearning-to-detect-malicious-URLs.git.\n",
    "\n",
    "| Variable | Type | Description |\n",
    "|----------|------|-------------|\n",
    "| URL  | Qualitiative| uniform resource locator |\n",
    "| URL_LENGTH | Quantitative | number of characters in the URL |\n",
    "| NUMBER_SPECIAL_CHARACTERS | Quantitative | number of special characters in the URL (“/”, “%”, “#”, “&”, “. “, “=”) |\n",
    "| CHARSET | Qualitative | character encoding standard |\n",
    "| SERVER | Qualitative | operative system of the server from the packet response |\n",
    "| CONTENT_LENGTH | Quantiative | represents the content size of the HTTP header |\n",
    "| WHOIS_COUNTRY | Qualitative | countries we got from the server response |\n",
    "| WHOIS_STATEPRO | Qualitative | the states we got from the server response |\n",
    "| WHOIS_REGDATE | Quantitative| server registration date, with format DD/MM/YYY HH:MM |\n",
    "| WHOIS_UPDATED_DATE | Quantitative | last update date from the server |\n",
    "| TCP_CONVERSATION_EXCHANGE | Quantitative | number of TCP packets exchanged between server & honeypot client |\n",
    "| DIST_REMOTE_TCP_PORT | Quantitative | number of the ports detected and different to TCP |\n",
    "| REMOTE_IPS | Quantitative | total number of IPs connected to the honeypot |\n",
    "| APP_BYTES | Quantitative | number of bytes transfered |\n",
    "| SOURCE_APP_PACKETS | Quantitative | number of packets sent from the honeypot to the server |\n",
    "| REMOTE_APP_PACKETS | Quantitative | number of packets received from the server |\n",
    "| APP_PACKETS | Quantitative | number of IP packets generated between the honeypot and the server |\n",
    "| DNS_QUERY_TIMES | Quantiative | number of DNS packets generated between the honeypot and the server |\n",
    "| TYPE | Qualitative | type of web page, 1 is for malicious and 0 is for benign |\n",
    "\n",
    "References: \n",
    "Urcuqui, C., Navarro, A., Osorio, J., & Garcıa, M. (2017). Machine Learning Classifiers to Detect Malicious Websites. CEUR Workshop Proceedings. Vol 1950, 14-17.\n",
    "https://github.com/urcuqui/WhiteHat/tree/master/Research/Web%20security"
   ]
  },
  {
   "cell_type": "markdown",
   "metadata": {},
   "source": [
    "## Quanitative Data\n",
    "\n",
    "Quantitative data are measures of values or counts and are expressed as numbers. Quantitative data are data about numeric variables (e.g. how many; how much; or how often). Summarizing quantiative data in a single value inevitably loses a lot of information held in variation within the data. Understanding this variation may be key to working out the story the data may tell, and deciding how to analyze and visualize it. Often the first thing to do when examining a dataset is to chart the distribution of each continuous variable. You can think of this as the “shape” of the dataset, for each variable.\n",
    "\n",
    "Many variables, such as human height and weight, follow a “normal” distribution. If you draw a graph plotting the range of values in the data along the horizontal axis (also known as the X axis), and the number of individual data points for each value on the vertical or Y axis, a normal distribution gives a bell-shaped curve."
   ]
  },
  {
   "cell_type": "code",
   "execution_count": 1,
   "metadata": {
    "scrolled": true
   },
   "outputs": [],
   "source": [
    "%matplotlib inline\n",
    "import pandas as pd\n",
    "\n",
    "df = pd.read_csv('data/dataset.csv')"
   ]
  },
  {
   "cell_type": "markdown",
   "metadata": {},
   "source": [
    "One simple way to determine a quantitative variable is to use `info()` in order to see what information is defined as a `int` or `float`. This does not always work as you can have numbers represented as strings."
   ]
  },
  {
   "cell_type": "code",
   "execution_count": 2,
   "metadata": {},
   "outputs": [
    {
     "name": "stdout",
     "output_type": "stream",
     "text": [
      "<class 'pandas.core.frame.DataFrame'>\n",
      "RangeIndex: 1781 entries, 0 to 1780\n",
      "Data columns (total 21 columns):\n",
      "URL                          1781 non-null object\n",
      "URL_LENGTH                   1781 non-null int64\n",
      "NUMBER_SPECIAL_CHARACTERS    1781 non-null int64\n",
      "CHARSET                      1781 non-null object\n",
      "SERVER                       1780 non-null object\n",
      "CONTENT_LENGTH               969 non-null float64\n",
      "WHOIS_COUNTRY                1781 non-null object\n",
      "WHOIS_STATEPRO               1781 non-null object\n",
      "WHOIS_REGDATE                1781 non-null object\n",
      "WHOIS_UPDATED_DATE           1781 non-null object\n",
      "TCP_CONVERSATION_EXCHANGE    1781 non-null int64\n",
      "DIST_REMOTE_TCP_PORT         1781 non-null int64\n",
      "REMOTE_IPS                   1781 non-null int64\n",
      "APP_BYTES                    1781 non-null int64\n",
      "SOURCE_APP_PACKETS           1781 non-null int64\n",
      "REMOTE_APP_PACKETS           1781 non-null int64\n",
      "SOURCE_APP_BYTES             1781 non-null int64\n",
      "REMOTE_APP_BYTES             1781 non-null int64\n",
      "APP_PACKETS                  1781 non-null int64\n",
      "DNS_QUERY_TIMES              1780 non-null float64\n",
      "Type                         1781 non-null int64\n",
      "dtypes: float64(2), int64(12), object(7)\n",
      "memory usage: 292.3+ KB\n"
     ]
    }
   ],
   "source": [
    "df.info()"
   ]
  },
  {
   "cell_type": "markdown",
   "metadata": {},
   "source": [
    "## Measures of Central Tendency\n",
    "\n",
    "The measures of central tendency are metrics that represent an answer to the following question: \"What does the middle of our data look like?\". The word `middle` is vague because there are multiple definitions we can use to represent the middle.\n",
    "\n",
    "* Mean\n",
    "* Median \n",
    "* Mode\n",
    "* Range/Interquartile Range\n",
    "* Standard Deviation\n",
    "* Variance"
   ]
  },
  {
   "cell_type": "markdown",
   "metadata": {},
   "source": [
    "## Mean\n",
    "\n",
    "The mean is a descriptive statistics that looks at the average value of data. The mean represents a typical observation in our data set. If we were to pick one of our observations at random, then we're likely to get a valuve that's close to the mean."
   ]
  },
  {
   "cell_type": "code",
   "execution_count": 3,
   "metadata": {},
   "outputs": [
    {
     "data": {
      "text/plain": [
       "URL_LENGTH                      56.961258\n",
       "NUMBER_SPECIAL_CHARACTERS       11.111735\n",
       "CONTENT_LENGTH               11726.927761\n",
       "TCP_CONVERSATION_EXCHANGE       16.261089\n",
       "DIST_REMOTE_TCP_PORT             5.472768\n",
       "REMOTE_IPS                       3.060640\n",
       "APP_BYTES                     2982.339135\n",
       "SOURCE_APP_PACKETS              18.540146\n",
       "REMOTE_APP_PACKETS              18.746210\n",
       "SOURCE_APP_BYTES             15892.545761\n",
       "REMOTE_APP_BYTES              3155.598540\n",
       "APP_PACKETS                     18.540146\n",
       "dtype: float64"
      ]
     },
     "execution_count": 3,
     "metadata": {},
     "output_type": "execute_result"
    }
   ],
   "source": [
    "df[['URL_LENGTH', 'NUMBER_SPECIAL_CHARACTERS', 'CONTENT_LENGTH', 'TCP_CONVERSATION_EXCHANGE',\n",
    "   'DIST_REMOTE_TCP_PORT', 'REMOTE_IPS', 'APP_BYTES', 'SOURCE_APP_PACKETS', 'REMOTE_APP_PACKETS',\n",
    "   'SOURCE_APP_BYTES', 'REMOTE_APP_BYTES', 'APP_PACKETS']].mean()"
   ]
  },
  {
   "cell_type": "markdown",
   "metadata": {},
   "source": [
    "The average length of a url is `URL_LENGTH` is 56.961258. This tells us that the length of most urls are decently long. Let's demonstrate if this is true."
   ]
  },
  {
   "cell_type": "code",
   "execution_count": 4,
   "metadata": {},
   "outputs": [
    {
     "data": {
      "text/plain": [
       "25"
      ]
     },
     "execution_count": 4,
     "metadata": {},
     "output_type": "execute_result"
    }
   ],
   "source": [
    "import random\n",
    "x = random.randint(1,101)\n",
    "\n",
    "df.iloc[x]['URL_LENGTH']"
   ]
  },
  {
   "cell_type": "markdown",
   "metadata": {},
   "source": [
    "There are multiple types of means, but this form is the most common use. This mean is referred to as the `arithmetic mean` since we are summing up the values."
   ]
  },
  {
   "cell_type": "markdown",
   "metadata": {},
   "source": [
    "## Median\n",
    "\n",
    "The next measure of central tendency we'll cover is the median. The median also attempts to define a typical value in the dataset, but unlike mean, does not require calculation. To find the median, we first need to reorganize our dataset in ascending order. Then, the median is the value that coincides with the middle of the dataset. If there are an even amount of items, then we take the average of the two values that would `surround` the middle."
   ]
  },
  {
   "cell_type": "code",
   "execution_count": 5,
   "metadata": {},
   "outputs": [
    {
     "data": {
      "text/plain": [
       "URL_LENGTH                     49.0\n",
       "NUMBER_SPECIAL_CHARACTERS      10.0\n",
       "CONTENT_LENGTH               1853.0\n",
       "TCP_CONVERSATION_EXCHANGE       7.0\n",
       "DIST_REMOTE_TCP_PORT            0.0\n",
       "REMOTE_IPS                      2.0\n",
       "APP_BYTES                     672.0\n",
       "SOURCE_APP_PACKETS              8.0\n",
       "REMOTE_APP_PACKETS              9.0\n",
       "SOURCE_APP_BYTES              579.0\n",
       "REMOTE_APP_BYTES              735.0\n",
       "APP_PACKETS                     8.0\n",
       "dtype: float64"
      ]
     },
     "execution_count": 5,
     "metadata": {},
     "output_type": "execute_result"
    }
   ],
   "source": [
    "df[['URL_LENGTH', 'NUMBER_SPECIAL_CHARACTERS', 'CONTENT_LENGTH', 'TCP_CONVERSATION_EXCHANGE',\n",
    "   'DIST_REMOTE_TCP_PORT', 'REMOTE_IPS', 'APP_BYTES', 'SOURCE_APP_PACKETS', 'REMOTE_APP_PACKETS',\n",
    "   'SOURCE_APP_BYTES', 'REMOTE_APP_BYTES', 'APP_PACKETS']].median()"
   ]
  },
  {
   "cell_type": "markdown",
   "metadata": {},
   "source": [
    "The median url length is lower than the mean. The difference between mean and median is due to robustness."
   ]
  },
  {
   "cell_type": "markdown",
   "metadata": {},
   "source": [
    "## The Problem of Outliers\n",
    "\n",
    "The mean is calculated by summing up all the values we want and dividng by the numbe rof items, while the median is found by simply rearranging items. If we have outliers in our data, items that are much higher or lower than the other values, it can have an adverse effect on the mean. The mean is not `robust` to outliers. The median is robust to them. Let's examine the maximum and minimum values in our dataset."
   ]
  },
  {
   "cell_type": "code",
   "execution_count": 6,
   "metadata": {},
   "outputs": [
    {
     "data": {
      "text/plain": [
       "URL_LENGTH                       249.0\n",
       "NUMBER_SPECIAL_CHARACTERS         43.0\n",
       "CONTENT_LENGTH                649263.0\n",
       "TCP_CONVERSATION_EXCHANGE       1194.0\n",
       "DIST_REMOTE_TCP_PORT             708.0\n",
       "REMOTE_IPS                        17.0\n",
       "APP_BYTES                    2362906.0\n",
       "SOURCE_APP_PACKETS              1198.0\n",
       "REMOTE_APP_PACKETS              1284.0\n",
       "SOURCE_APP_BYTES             2060012.0\n",
       "REMOTE_APP_BYTES             2362906.0\n",
       "APP_PACKETS                     1198.0\n",
       "dtype: float64"
      ]
     },
     "execution_count": 6,
     "metadata": {},
     "output_type": "execute_result"
    }
   ],
   "source": [
    "df[['URL_LENGTH', 'NUMBER_SPECIAL_CHARACTERS', 'CONTENT_LENGTH', 'TCP_CONVERSATION_EXCHANGE',\n",
    "   'DIST_REMOTE_TCP_PORT', 'REMOTE_IPS', 'APP_BYTES', 'SOURCE_APP_PACKETS', 'REMOTE_APP_PACKETS',\n",
    "   'SOURCE_APP_BYTES', 'REMOTE_APP_BYTES', 'APP_PACKETS']].max()"
   ]
  },
  {
   "cell_type": "code",
   "execution_count": 7,
   "metadata": {},
   "outputs": [
    {
     "data": {
      "text/plain": [
       "URL_LENGTH                   16.0\n",
       "NUMBER_SPECIAL_CHARACTERS     5.0\n",
       "CONTENT_LENGTH                0.0\n",
       "TCP_CONVERSATION_EXCHANGE     0.0\n",
       "DIST_REMOTE_TCP_PORT          0.0\n",
       "REMOTE_IPS                    0.0\n",
       "APP_BYTES                     0.0\n",
       "SOURCE_APP_PACKETS            0.0\n",
       "REMOTE_APP_PACKETS            0.0\n",
       "SOURCE_APP_BYTES              0.0\n",
       "REMOTE_APP_BYTES              0.0\n",
       "APP_PACKETS                   0.0\n",
       "dtype: float64"
      ]
     },
     "execution_count": 7,
     "metadata": {},
     "output_type": "execute_result"
    }
   ],
   "source": [
    "df[['URL_LENGTH', 'NUMBER_SPECIAL_CHARACTERS', 'CONTENT_LENGTH', 'TCP_CONVERSATION_EXCHANGE',\n",
    "   'DIST_REMOTE_TCP_PORT', 'REMOTE_IPS', 'APP_BYTES', 'SOURCE_APP_PACKETS', 'REMOTE_APP_PACKETS',\n",
    "   'SOURCE_APP_BYTES', 'REMOTE_APP_BYTES', 'APP_PACKETS']].min()"
   ]
  },
  {
   "cell_type": "markdown",
   "metadata": {},
   "source": [
    "We now know that outliers are present in our data. Outliers can represent interesting events or errors in out data collection, so it's important to be able to recognize when they're present in the data. The comparison of median and mode is just one of many ways to detect the present of outliers, visualizaution is typically quicker."
   ]
  },
  {
   "cell_type": "markdown",
   "metadata": {},
   "source": [
    "## Mode\n",
    "\n",
    "The mode is defined as the value that appears the most frequently in the data. The intuition of the mode as the `middle` is not as immediate as mean or median. If a value towards the modal value. The more a value appears, the more it will influence the mena. A mode represents the highest weighted contrributing factor to our mean."
   ]
  },
  {
   "cell_type": "code",
   "execution_count": 8,
   "metadata": {},
   "outputs": [
    {
     "data": {
      "text/html": [
       "<div>\n",
       "<style scoped>\n",
       "    .dataframe tbody tr th:only-of-type {\n",
       "        vertical-align: middle;\n",
       "    }\n",
       "\n",
       "    .dataframe tbody tr th {\n",
       "        vertical-align: top;\n",
       "    }\n",
       "\n",
       "    .dataframe thead th {\n",
       "        text-align: right;\n",
       "    }\n",
       "</style>\n",
       "<table border=\"1\" class=\"dataframe\">\n",
       "  <thead>\n",
       "    <tr style=\"text-align: right;\">\n",
       "      <th></th>\n",
       "      <th>URL_LENGTH</th>\n",
       "      <th>NUMBER_SPECIAL_CHARACTERS</th>\n",
       "      <th>CONTENT_LENGTH</th>\n",
       "      <th>TCP_CONVERSATION_EXCHANGE</th>\n",
       "      <th>DIST_REMOTE_TCP_PORT</th>\n",
       "      <th>REMOTE_IPS</th>\n",
       "      <th>APP_BYTES</th>\n",
       "      <th>SOURCE_APP_PACKETS</th>\n",
       "      <th>REMOTE_APP_PACKETS</th>\n",
       "      <th>SOURCE_APP_BYTES</th>\n",
       "      <th>REMOTE_APP_BYTES</th>\n",
       "      <th>APP_PACKETS</th>\n",
       "    </tr>\n",
       "  </thead>\n",
       "  <tbody>\n",
       "    <tr>\n",
       "      <th>0</th>\n",
       "      <td>39</td>\n",
       "      <td>9</td>\n",
       "      <td>324.0</td>\n",
       "      <td>0</td>\n",
       "      <td>0</td>\n",
       "      <td>0</td>\n",
       "      <td>0</td>\n",
       "      <td>0</td>\n",
       "      <td>0</td>\n",
       "      <td>0</td>\n",
       "      <td>0</td>\n",
       "      <td>0</td>\n",
       "    </tr>\n",
       "  </tbody>\n",
       "</table>\n",
       "</div>"
      ],
      "text/plain": [
       "   URL_LENGTH  NUMBER_SPECIAL_CHARACTERS  CONTENT_LENGTH  \\\n",
       "0          39                          9           324.0   \n",
       "\n",
       "   TCP_CONVERSATION_EXCHANGE  DIST_REMOTE_TCP_PORT  REMOTE_IPS  APP_BYTES  \\\n",
       "0                          0                     0           0          0   \n",
       "\n",
       "   SOURCE_APP_PACKETS  REMOTE_APP_PACKETS  SOURCE_APP_BYTES  REMOTE_APP_BYTES  \\\n",
       "0                   0                   0                 0                 0   \n",
       "\n",
       "   APP_PACKETS  \n",
       "0            0  "
      ]
     },
     "execution_count": 8,
     "metadata": {},
     "output_type": "execute_result"
    }
   ],
   "source": [
    "df[['URL_LENGTH', 'NUMBER_SPECIAL_CHARACTERS', 'CONTENT_LENGTH', 'TCP_CONVERSATION_EXCHANGE',\n",
    "   'DIST_REMOTE_TCP_PORT', 'REMOTE_IPS', 'APP_BYTES', 'SOURCE_APP_PACKETS', 'REMOTE_APP_PACKETS',\n",
    "   'SOURCE_APP_BYTES', 'REMOTE_APP_BYTES', 'APP_PACKETS']].mode()"
   ]
  },
  {
   "cell_type": "markdown",
   "metadata": {},
   "source": [
    "The modes are not reasonably close to the median, causing us to lose confidence in that both the median and mode do not fully help us represent the data. The measure of central tendency are useful for summarizing what an average observation is like in our data. However, they do not inform us as to how spread out are data is. There summaries of spread are what measures of spread help describe."
   ]
  },
  {
   "cell_type": "markdown",
   "metadata": {},
   "source": [
    "## Measures of Spread\n",
    "\n",
    "The measures of spread answers the question, `How much does my data vary?` There are few things in the world that stay the same everytime we observe it. This variability makes the world fuzzy and uncertain, so it's useful to have metrics that summarize this fuzzines."
   ]
  },
  {
   "cell_type": "markdown",
   "metadata": {},
   "source": [
    "### Range and Interquartile Range\n",
    "\n",
    "The first measure of spread we’ll cover is range. Range is the simplest to compute of the measures we’ll see: just subtract the smallest value of your data set from the largest value in the data. We found out what the minimum and maximum values of our variables were when we were investigating the median, so we’ll use these to find the range."
   ]
  },
  {
   "cell_type": "code",
   "execution_count": 9,
   "metadata": {},
   "outputs": [
    {
     "data": {
      "text/plain": [
       "233"
      ]
     },
     "execution_count": 9,
     "metadata": {},
     "output_type": "execute_result"
    }
   ],
   "source": [
    "df['URL_LENGTH'].max() - df['URL_LENGTH'].min()"
   ]
  },
  {
   "cell_type": "markdown",
   "metadata": {},
   "source": [
    "We found a range of 233, but what does that mean precisely? When we look at our various measures, it is important to keep all of this information in the context of your data. Our median `url_length` was 49. The range is larger than our median, so it suggests that our data is spread out. Perhaps if we had another data set, we could compare the ranges of these two data sets to gain an understanding on how they differ. Otherwise, the range alone isn’t super helpful. More often, we’ll want to see how much our data varies from the typical value. This summary falls under the jurisdiction of standard deviation and variance."
   ]
  },
  {
   "cell_type": "markdown",
   "metadata": {},
   "source": [
    "### Standard Deviation\n",
    "\n",
    "The standard deviation is also a measure of the spread of your observations, but is a statement of how much your data deviates from a typical data point. That is to say, the standard deviation summarizes how much your data differs from the mean. This relationship to the mean is apparent in standard deviation’s calculation. "
   ]
  },
  {
   "cell_type": "code",
   "execution_count": 10,
   "metadata": {},
   "outputs": [
    {
     "data": {
      "text/plain": [
       "27.555585567092216"
      ]
     },
     "execution_count": 10,
     "metadata": {},
     "output_type": "execute_result"
    }
   ],
   "source": [
    "df['URL_LENGTH'].std()"
   ]
  },
  {
   "cell_type": "markdown",
   "metadata": {},
   "source": [
    "The results are expected. The followers range from 16 to 249 making the standard deviation large. The larger the standard deviation, the more spread out the data is around the mean and vice-versa. Variance is closely related to standard deviation"
   ]
  },
  {
   "cell_type": "markdown",
   "metadata": {},
   "source": [
    "### Variance\n",
    "\n",
    "Variance and standard deviation are almost the exact same thing! Variance is just the square of the standard deviation. Likewise, variance and standard deviation represent the same thing — a measure of spread — but it’s worth noting that the units are different. Whatever units your data are in, standard deviation will be the same, and variation will be in that units-squared.\n",
    "\n",
    "Like the mean, variance and standard deviation are affected by outliers. Many times, outliers are also points of interest in our data set, so squaring the difference from the mean allows us to point out this significance. More often than not, any statistical analyses you do will require just the mean and standard deviation, but the variance still has significance in other academic areas. The measures of central tendency and spread allow us to summarize key aspects of our data set, and we can build on these summaries to glean more insights from our data."
   ]
  },
  {
   "cell_type": "code",
   "execution_count": 11,
   "metadata": {},
   "outputs": [
    {
     "data": {
      "text/plain": [
       "759.3102959453407"
      ]
     },
     "execution_count": 11,
     "metadata": {},
     "output_type": "execute_result"
    }
   ],
   "source": [
    "df['URL_LENGTH'].var()"
   ]
  },
  {
   "cell_type": "markdown",
   "metadata": {},
   "source": [
    "## Qualitative Data\n",
    "\n",
    "The most basic operation with cateogircal data is to aggregate it by counting the number of records that fall into each category. This gives a table of \"frequencies\". Often these are divided by the total number of records, and then multiplied by 100 to show them as percentages of the total. Here in this example"
   ]
  },
  {
   "cell_type": "markdown",
   "metadata": {},
   "source": [
    "We rely on the `value_counts` function to receive the frequency of each unique value in the column"
   ]
  },
  {
   "cell_type": "code",
   "execution_count": 12,
   "metadata": {},
   "outputs": [
    {
     "data": {
      "text/plain": [
       "US                1103\n",
       "None               306\n",
       "CA                  84\n",
       "ES                  63\n",
       "AU                  35\n",
       "PA                  21\n",
       "GB                  19\n",
       "JP                  11\n",
       "IN                  10\n",
       "UK                  10\n",
       "CN                  10\n",
       "FR                   9\n",
       "CZ                   9\n",
       "NL                   6\n",
       "CH                   6\n",
       "[u'GB'; u'UK']       5\n",
       "KR                   5\n",
       "BS                   4\n",
       "AT                   4\n",
       "ru                   4\n",
       "PH                   4\n",
       "SE                   3\n",
       "KY                   3\n",
       "SC                   3\n",
       "DE                   3\n",
       "HK                   3\n",
       "BE                   3\n",
       "TR                   3\n",
       "us                   3\n",
       "BR                   2\n",
       "NO                   2\n",
       "IL                   2\n",
       "RU                   2\n",
       "SI                   2\n",
       "KG                   2\n",
       "UY                   2\n",
       "UA                   2\n",
       "Cyprus               2\n",
       "TH                   1\n",
       "IE                   1\n",
       "LV                   1\n",
       "BY                   1\n",
       "se                   1\n",
       "PK                   1\n",
       "LU                   1\n",
       "IT                   1\n",
       "UG                   1\n",
       "AE                   1\n",
       "United Kingdom       1\n",
       "Name: WHOIS_COUNTRY, dtype: int64"
      ]
     },
     "execution_count": 12,
     "metadata": {},
     "output_type": "execute_result"
    }
   ],
   "source": [
    "df['WHOIS_COUNTRY'].value_counts()"
   ]
  },
  {
   "cell_type": "markdown",
   "metadata": {},
   "source": [
    "This is a large dataset to view, lets just examine the 5 highest frequencies."
   ]
  },
  {
   "cell_type": "code",
   "execution_count": 13,
   "metadata": {},
   "outputs": [
    {
     "data": {
      "text/plain": [
       "US      1103\n",
       "None     306\n",
       "CA        84\n",
       "ES        63\n",
       "AU        35\n",
       "Name: WHOIS_COUNTRY, dtype: int64"
      ]
     },
     "execution_count": 13,
     "metadata": {},
     "output_type": "execute_result"
    }
   ],
   "source": [
    "df['WHOIS_COUNTRY'].value_counts().nlargest(5)"
   ]
  },
  {
   "cell_type": "markdown",
   "metadata": {},
   "source": [
    "Lets visualize this information."
   ]
  },
  {
   "cell_type": "code",
   "execution_count": 14,
   "metadata": {},
   "outputs": [
    {
     "data": {
      "text/plain": [
       "<matplotlib.axes._subplots.AxesSubplot at 0x7f7ca10ddb38>"
      ]
     },
     "execution_count": 14,
     "metadata": {},
     "output_type": "execute_result"
    },
    {
     "data": {
      "image/png": "[encoded data removed]",
      "text/plain": [
       "<Figure size 432x288 with 1 Axes>"
      ]
     },
     "metadata": {
      "needs_background": "light"
     },
     "output_type": "display_data"
    }
   ],
   "source": [
    "df['WHOIS_COUNTRY'].value_counts().nlargest(5).plot.bar()"
   ]
  },
  {
   "cell_type": "markdown",
   "metadata": {},
   "source": [
    "In order to see the percetanges, we will use a pie plot to visualize this information."
   ]
  },
  {
   "cell_type": "code",
   "execution_count": 15,
   "metadata": {
    "scrolled": true
   },
   "outputs": [
    {
     "data": {
      "text/plain": [
       "<matplotlib.axes._subplots.AxesSubplot at 0x7f7ca1079438>"
      ]
     },
     "execution_count": 15,
     "metadata": {},
     "output_type": "execute_result"
    },
    {
     "data": {
      "image/png": "[encoded data removed]",
      "text/plain": [
       "<Figure size 432x288 with 1 Axes>"
      ]
     },
     "metadata": {},
     "output_type": "display_data"
    }
   ],
   "source": [
    "df['WHOIS_COUNTRY'].value_counts().nlargest(10).plot.pie()"
   ]
  },
  {
   "cell_type": "markdown",
   "metadata": {},
   "source": [
    "Creating frequency counts from qualitative data creates a new quantitative variable, and has changed the level of analysis. The original data would consist of a huge table with a record for each author in creating the frequency data shown here, the level of analysis is shifted from the individual to the class."
   ]
  },
  {
   "cell_type": "markdown",
   "metadata": {},
   "source": [
    "### Exercise\n",
    "\n",
    "Take the dataset provided and answer the following statements below:\n",
    "* Obtain mean, median, mode, range, standard deviation, and variance of the frequency of account types\n",
    "* Choose a way to visualize any outliers your find in this dataset\n",
    "* Describe what this means for our data"
   ]
  },
  {
   "cell_type": "code",
   "execution_count": null,
   "metadata": {},
   "outputs": [],
   "source": []
  }
 ],
 "metadata": {
  "anaconda-cloud": {},
  "kernelspec": {
   "display_name": "Python 3",
   "language": "python",
   "name": "python3"
  },
  "language_info": {
   "codemirror_mode": {
    "name": "ipython",
    "version": 3
   },
   "file_extension": ".py",
   "mimetype": "text/x-python",
   "name": "python",
   "nbconvert_exporter": "python",
   "pygments_lexer": "ipython3",
   "version": "3.6.8"
  }
 },
 "nbformat": 4,
 "nbformat_minor": 2
}
