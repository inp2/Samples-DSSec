{
 "cells": [
  {
   "cell_type": "markdown",
   "metadata": {},
   "source": [
    "# Exercise 1\n",
    "\n",
    "You are presented with a dataset below. What questions can your formulate to ask based on the dataset provided?"
   ]
  },
  {
   "cell_type": "code",
   "execution_count": 11,
   "metadata": {},
   "outputs": [
    {
     "name": "stdout",
     "output_type": "stream",
     "text": [
      "<class 'pandas.core.frame.DataFrame'>\n",
      "RangeIndex: 1781 entries, 0 to 1780\n",
      "Data columns (total 21 columns):\n",
      "URL                          1781 non-null object\n",
      "URL_LENGTH                   1781 non-null int64\n",
      "NUMBER_SPECIAL_CHARACTERS    1781 non-null int64\n",
      "CHARSET                      1781 non-null object\n",
      "SERVER                       1780 non-null object\n",
      "CONTENT_LENGTH               969 non-null float64\n",
      "WHOIS_COUNTRY                1781 non-null object\n",
      "WHOIS_STATEPRO               1781 non-null object\n",
      "WHOIS_REGDATE                1781 non-null object\n",
      "WHOIS_UPDATED_DATE           1781 non-null object\n",
      "TCP_CONVERSATION_EXCHANGE    1781 non-null int64\n",
      "DIST_REMOTE_TCP_PORT         1781 non-null int64\n",
      "REMOTE_IPS                   1781 non-null int64\n",
      "APP_BYTES                    1781 non-null int64\n",
      "SOURCE_APP_PACKETS           1781 non-null int64\n",
      "REMOTE_APP_PACKETS           1781 non-null int64\n",
      "SOURCE_APP_BYTES             1781 non-null int64\n",
      "REMOTE_APP_BYTES             1781 non-null int64\n",
      "APP_PACKETS                  1781 non-null int64\n",
      "DNS_QUERY_TIMES              1780 non-null float64\n",
      "Type                         1781 non-null int64\n",
      "dtypes: float64(2), int64(12), object(7)\n",
      "memory usage: 292.3+ KB\n"
     ]
    }
   ],
   "source": [
    "import pandas as pd\n",
    "df = pd.read_csv('data/dataset.csv')\n",
    "df.info()"
   ]
  },
  {
   "cell_type": "markdown",
   "metadata": {},
   "source": [
    "<b>Answer: </b>What special characters are important?"
   ]
  },
  {
   "cell_type": "markdown",
   "metadata": {},
   "source": [
    "### Exercise 2\n",
    "\n",
    "1. How many total rows and columns do we have?\n",
    "\n",
    "\n",
    "2. How many of those rows are missing values?\n",
    "\n",
    "\n",
    "3. How many unique items there are in each feature?\n",
    "\n",
    "4. How many occurencences of each value are there for anyone of the features?\n",
    "\n",
    "5. What are the qualititative features?\n",
    "\n",
    "`url`, `charset`, `server`, `whois_country`, `whois_statepro`, `dist_remote_tcp_port`\n",
    "\n",
    "6. What are the quantitative features?"
   ]
  },
  {
   "cell_type": "code",
   "execution_count": 4,
   "metadata": {},
   "outputs": [
    {
     "name": "stdout",
     "output_type": "stream",
     "text": [
      "(1781, 21)\n",
      "\n",
      "\n",
      "URL                            0\n",
      "URL_LENGTH                     0\n",
      "NUMBER_SPECIAL_CHARACTERS      0\n",
      "CHARSET                        0\n",
      "SERVER                         1\n",
      "CONTENT_LENGTH               812\n",
      "WHOIS_COUNTRY                  0\n",
      "WHOIS_STATEPRO                 0\n",
      "WHOIS_REGDATE                  0\n",
      "WHOIS_UPDATED_DATE             0\n",
      "TCP_CONVERSATION_EXCHANGE      0\n",
      "DIST_REMOTE_TCP_PORT           0\n",
      "REMOTE_IPS                     0\n",
      "APP_BYTES                      0\n",
      "SOURCE_APP_PACKETS             0\n",
      "REMOTE_APP_PACKETS             0\n",
      "SOURCE_APP_BYTES               0\n",
      "REMOTE_APP_BYTES               0\n",
      "APP_PACKETS                    0\n",
      "DNS_QUERY_TIMES                1\n",
      "Type                           0\n",
      "dtype: int64\n",
      "\n",
      "\n",
      "URL: 1781\n",
      "URL_LENGTH: 142\n",
      "NUMBER_SPECIAL_CHARACTERS: 31\n",
      "CHARSET: 9\n",
      "SERVER: 239\n",
      "CONTENT_LENGTH: 637\n",
      "WHOIS_COUNTRY: 49\n",
      "WHOIS_STATEPRO: 182\n",
      "WHOIS_REGDATE: 891\n",
      "WHOIS_UPDATED_DATE: 594\n",
      "TCP_CONVERSATION_EXCHANGE: 103\n",
      "DIST_REMOTE_TCP_PORT: 66\n",
      "REMOTE_IPS: 18\n",
      "APP_BYTES: 825\n",
      "SOURCE_APP_PACKETS: 113\n",
      "REMOTE_APP_PACKETS: 116\n",
      "SOURCE_APP_BYTES: 885\n",
      "REMOTE_APP_BYTES: 822\n",
      "APP_PACKETS: 113\n",
      "DNS_QUERY_TIMES: 10\n",
      "Type: 2\n",
      "\n",
      "\n",
      "0     657\n",
      "2     191\n",
      "3     183\n",
      "5     134\n",
      "4     128\n",
      "1     101\n",
      "6      97\n",
      "7      80\n",
      "8      67\n",
      "9      42\n",
      "10     30\n",
      "11     25\n",
      "12     21\n",
      "14      9\n",
      "13      8\n",
      "15      5\n",
      "16      2\n",
      "17      1\n",
      "Name: REMOTE_IPS, dtype: int64\n",
      "\n",
      "\n"
     ]
    }
   ],
   "source": [
    "# 1. \n",
    "print(str(df.shape) + \"\\n\\n\")\n",
    "\n",
    "# 2.\n",
    "print(str(df.isnull().sum()) + \"\\n\\n\")\n",
    "\n",
    "# 3. \n",
    "for item in df:\n",
    "    print(item + ': ' + str(df[item].nunique()))\n",
    "    \n",
    "# 4.\n",
    "\n",
    "print(\"\\n\\n\" + str(df.REMOTE_IPS.value_counts()) + \"\\n\\n\")"
   ]
  },
  {
   "cell_type": "markdown",
   "metadata": {},
   "source": [
    "### Exercise 3\n",
    "\n",
    "1. Create three distribution plots of features for features of which you are interested?"
   ]
  },
  {
   "cell_type": "code",
   "execution_count": 9,
   "metadata": {},
   "outputs": [
    {
     "data": {
      "text/plain": [
       "<matplotlib.axes._subplots.AxesSubplot at 0x7f256fe12470>"
      ]
     },
     "execution_count": 9,
     "metadata": {},
     "output_type": "execute_result"
    }
   ],
   "source": [
    "df.SOURCE_APP_PACKETS.value_counts().plot.hist()"
   ]
  },
  {
   "cell_type": "code",
   "execution_count": 10,
   "metadata": {},
   "outputs": [
    {
     "data": {
      "text/plain": [
       "<matplotlib.axes._subplots.AxesSubplot at 0x7f256dd6d6a0>"
      ]
     },
     "execution_count": 10,
     "metadata": {},
     "output_type": "execute_result"
    },
    {
     "data": {
      "image/png": "[encoded data removed]",
      "text/plain": [
       "<Figure size 432x288 with 1 Axes>"
      ]
     },
     "metadata": {
      "needs_background": "light"
     },
     "output_type": "display_data"
    }
   ],
   "source": [
    "df.REMOTE_APP_PACKETS.value_counts().plot.hist()"
   ]
  },
  {
   "cell_type": "markdown",
   "metadata": {},
   "source": [
    "### Exercise 4\n",
    "\n",
    "* Take some time and familiarize yourself with this dataset\n",
    "* Create/remove/change a feature you believe would be important to this dataset"
   ]
  },
  {
   "cell_type": "code",
   "execution_count": 11,
   "metadata": {},
   "outputs": [
    {
     "data": {
      "text/plain": [
       "0          6000\n",
       "1          5270\n",
       "2          2489\n",
       "3         43235\n",
       "4         56577\n",
       "5         32628\n",
       "6          6000\n",
       "7          6000\n",
       "8          6000\n",
       "9          6000\n",
       "10         6000\n",
       "11         9907\n",
       "12        33367\n",
       "13        33367\n",
       "14        33367\n",
       "15        33367\n",
       "16        33367\n",
       "17        33367\n",
       "18         6000\n",
       "19        26180\n",
       "20        54790\n",
       "21         2712\n",
       "22        48754\n",
       "23        45855\n",
       "24         3009\n",
       "25         3009\n",
       "26         3303\n",
       "27         3303\n",
       "28         6000\n",
       "29         6000\n",
       "          ...  \n",
       "451551     8888\n",
       "451552     8888\n",
       "451553     6000\n",
       "451554       67\n",
       "451555    55494\n",
       "451556    55494\n",
       "451557     6000\n",
       "451558    11057\n",
       "451559     2706\n",
       "451560     2706\n",
       "451561     6000\n",
       "451562        0\n",
       "451563     4130\n",
       "451564     4130\n",
       "451565     6000\n",
       "451566    62125\n",
       "451567    40707\n",
       "451568     6000\n",
       "451569     2439\n",
       "451570     2439\n",
       "451571        0\n",
       "451572        0\n",
       "451573     6000\n",
       "451574    62175\n",
       "451575    62175\n",
       "451576    62175\n",
       "451577     6000\n",
       "451578     6000\n",
       "451579     3555\n",
       "451580     3555\n",
       "Name: spt, Length: 451581, dtype: int64"
      ]
     },
     "execution_count": 11,
     "metadata": {},
     "output_type": "execute_result"
    }
   ],
   "source": [
    "# I decided to convert port column from float to integer\n",
    "df = df.fillna(0)\n",
    "df['spt'] = df['spt'].astype(int)\n",
    "df['spt']"
   ]
  },
  {
   "cell_type": "markdown",
   "metadata": {},
   "source": [
    "## Exercise 5\n",
    "\n",
    "Supervised learning\n",
    "\n",
    "## Exercise 6\n",
    "\n",
    "Classification Algorithm"
   ]
  }
 ],
 "metadata": {
  "kernelspec": {
   "display_name": "Python 3",
   "language": "python",
   "name": "python3"
  },
  "language_info": {
   "codemirror_mode": {
    "name": "ipython",
    "version": 3
   },
   "file_extension": ".py",
   "mimetype": "text/x-python",
   "name": "python",
   "nbconvert_exporter": "python",
   "pygments_lexer": "ipython3",
   "version": "3.6.8"
  }
 },
 "nbformat": 4,
 "nbformat_minor": 2
}
