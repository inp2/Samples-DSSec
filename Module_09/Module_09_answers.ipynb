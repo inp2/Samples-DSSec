{
 "cells": [
  {
   "cell_type": "markdown",
   "metadata": {},
   "source": [
    "# Exercise 1\n",
    "\n",
    "There are several ways to approach this classification problem taking into consideration this unbalance:\n",
    "* Collect more data? Nice strategy but not applicable in this case\n",
    "* Changing the performance metric:\n",
    "    * Use the confusio nmatrix to calculate Precision, Recall\n",
    "    * F1score (weighted average of precision recall)\n",
    "    * Use Kappa - which is a classification accuracy normalized by the imbalance of the classes in the data\n",
    "    * ROC curves - calculates sensitivity/specificity ratio.\n",
    "* Resampling the dataset\n",
    "    * Essentially this is a method that will process the data to have an approximate 50-50 ratio.\n",
    "    * One way to achieve this is by OVER-sampling, which is adding copies of the under-represented class (better when you have little data)\n",
    "    * Another is UNDER-sampling, which deletes instances from the over-represented class (better when he have lot's of data)"
   ]
  },
  {
   "cell_type": "code",
   "execution_count": null,
   "metadata": {},
   "outputs": [],
   "source": []
  }
 ],
 "metadata": {
  "kernelspec": {
   "display_name": "Python 3",
   "language": "python",
   "name": "python3"
  },
  "language_info": {
   "codemirror_mode": {
    "name": "ipython",
    "version": 3
   },
   "file_extension": ".py",
   "mimetype": "text/x-python",
   "name": "python",
   "nbconvert_exporter": "python",
   "pygments_lexer": "ipython3",
   "version": "3.6.7"
  }
 },
 "nbformat": 4,
 "nbformat_minor": 2
}
