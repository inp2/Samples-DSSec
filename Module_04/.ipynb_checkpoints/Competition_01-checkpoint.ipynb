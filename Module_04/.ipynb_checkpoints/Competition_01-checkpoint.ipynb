{
 "cells": [
  {
   "cell_type": "markdown",
   "metadata": {},
   "source": [
    "# Browsers Under Attack\n",
    "\n",
    "Investigate a network attack but of a different kind.\n",
    "\n",
    "The Challenge:\n",
    "\n",
    "A network trace with attack data is provided. Analyze and answer the following questions using visualizations (when necessary) and the skills you learned today, as well do your best to tell a story:\n",
    "\n",
    "* List the protocols found in the capture. What protocol do you think the attack is/are based on?\n",
    "* List IPs, hosts names / domain names. What can you tell about it - extrapolate? What to deduce from the setup? Does it look like real situations?\n",
    "* List all the web pages. List those visited containing suspect and possibly malicious javascript and who's is connecting to it? Briefly describe the nature of the malicious web pages\n",
    "* Can you sketch an overview of the general actions performed by the attacker?\n",
    "* Which operating system was targeted by the attacks? Which software? And which vulnerabilities? Could the attacks been prevented?\n",
    "* Describe to use in your own way what occurred here\n"
   ]
  },
  {
   "cell_type": "code",
   "execution_count": 3,
   "metadata": {},
   "outputs": [],
   "source": [
    "import pandas as pd\n",
    "import whois\n",
    "df = pd.read_csv('data/suspicious-time.csv')"
   ]
  },
  {
   "cell_type": "code",
   "execution_count": 4,
   "metadata": {},
   "outputs": [
    {
     "data": {
      "text/html": [
       "<div>\n",
       "<style scoped>\n",
       "    .dataframe tbody tr th:only-of-type {\n",
       "        vertical-align: middle;\n",
       "    }\n",
       "\n",
       "    .dataframe tbody tr th {\n",
       "        vertical-align: top;\n",
       "    }\n",
       "\n",
       "    .dataframe thead th {\n",
       "        text-align: right;\n",
       "    }\n",
       "</style>\n",
       "<table border=\"1\" class=\"dataframe\">\n",
       "  <thead>\n",
       "    <tr style=\"text-align: right;\">\n",
       "      <th></th>\n",
       "      <th>frame.number</th>\n",
       "      <th>frame.time</th>\n",
       "      <th>eth.src</th>\n",
       "      <th>eth.dst</th>\n",
       "      <th>ip.src</th>\n",
       "      <th>ip.dst</th>\n",
       "      <th>ip.proto</th>\n",
       "    </tr>\n",
       "  </thead>\n",
       "  <tbody>\n",
       "    <tr>\n",
       "      <th>0</th>\n",
       "      <td>1</td>\n",
       "      <td>Dec 31, 2009 18:00:29.651780000 CST</td>\n",
       "      <td>08:00:27:91:fd:44</td>\n",
       "      <td>ff:ff:ff:ff:ff:ff</td>\n",
       "      <td>0.0.0.0</td>\n",
       "      <td>255.255.255.255</td>\n",
       "      <td>17.0</td>\n",
       "    </tr>\n",
       "    <tr>\n",
       "      <th>1</th>\n",
       "      <td>2</td>\n",
       "      <td>Dec 31, 2009 18:00:29.652048000 CST</td>\n",
       "      <td>52:54:00:12:35:00</td>\n",
       "      <td>08:00:27:91:fd:44</td>\n",
       "      <td>10.0.2.2</td>\n",
       "      <td>10.0.2.15</td>\n",
       "      <td>17.0</td>\n",
       "    </tr>\n",
       "    <tr>\n",
       "      <th>2</th>\n",
       "      <td>3</td>\n",
       "      <td>Dec 31, 2009 18:00:29.655825000 CST</td>\n",
       "      <td>08:00:27:91:fd:44</td>\n",
       "      <td>ff:ff:ff:ff:ff:ff</td>\n",
       "      <td>0.0.0.0</td>\n",
       "      <td>255.255.255.255</td>\n",
       "      <td>17.0</td>\n",
       "    </tr>\n",
       "    <tr>\n",
       "      <th>3</th>\n",
       "      <td>4</td>\n",
       "      <td>Dec 31, 2009 18:00:29.655969000 CST</td>\n",
       "      <td>52:54:00:12:35:00</td>\n",
       "      <td>08:00:27:91:fd:44</td>\n",
       "      <td>10.0.2.2</td>\n",
       "      <td>10.0.2.15</td>\n",
       "      <td>17.0</td>\n",
       "    </tr>\n",
       "    <tr>\n",
       "      <th>4</th>\n",
       "      <td>5</td>\n",
       "      <td>Dec 31, 2009 18:00:29.669413000 CST</td>\n",
       "      <td>08:00:27:91:fd:44</td>\n",
       "      <td>ff:ff:ff:ff:ff:ff</td>\n",
       "      <td>NaN</td>\n",
       "      <td>NaN</td>\n",
       "      <td>NaN</td>\n",
       "    </tr>\n",
       "  </tbody>\n",
       "</table>\n",
       "</div>"
      ],
      "text/plain": [
       "   frame.number                           frame.time            eth.src  \\\n",
       "0             1  Dec 31, 2009 18:00:29.651780000 CST  08:00:27:91:fd:44   \n",
       "1             2  Dec 31, 2009 18:00:29.652048000 CST  52:54:00:12:35:00   \n",
       "2             3  Dec 31, 2009 18:00:29.655825000 CST  08:00:27:91:fd:44   \n",
       "3             4  Dec 31, 2009 18:00:29.655969000 CST  52:54:00:12:35:00   \n",
       "4             5  Dec 31, 2009 18:00:29.669413000 CST  08:00:27:91:fd:44   \n",
       "\n",
       "             eth.dst    ip.src           ip.dst  ip.proto  \n",
       "0  ff:ff:ff:ff:ff:ff   0.0.0.0  255.255.255.255      17.0  \n",
       "1  08:00:27:91:fd:44  10.0.2.2        10.0.2.15      17.0  \n",
       "2  ff:ff:ff:ff:ff:ff   0.0.0.0  255.255.255.255      17.0  \n",
       "3  08:00:27:91:fd:44  10.0.2.2        10.0.2.15      17.0  \n",
       "4  ff:ff:ff:ff:ff:ff       NaN              NaN       NaN  "
      ]
     },
     "execution_count": 4,
     "metadata": {},
     "output_type": "execute_result"
    }
   ],
   "source": [
    "df.head()"
   ]
  },
  {
   "cell_type": "markdown",
   "metadata": {},
   "source": [
    "Reference:\n",
    "\n",
    "1. https://www.honeynet.org/challenges/2010_2_browsers_under_attack"
   ]
  }
 ],
 "metadata": {
  "kernelspec": {
   "display_name": "Python 3",
   "language": "python",
   "name": "python3"
  },
  "language_info": {
   "codemirror_mode": {
    "name": "ipython",
    "version": 3
   },
   "file_extension": ".py",
   "mimetype": "text/x-python",
   "name": "python",
   "nbconvert_exporter": "python",
   "pygments_lexer": "ipython3",
   "version": "3.6.7"
  }
 },
 "nbformat": 4,
 "nbformat_minor": 2
}
